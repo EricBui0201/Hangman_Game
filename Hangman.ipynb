{
 "cells": [
  {
   "cell_type": "markdown",
   "metadata": {
    "toc": true
   },
   "source": [
    "<h1>Table of Contents<span class=\"tocSkip\"></span></h1>\n",
    "<div class=\"toc\"><ul class=\"toc-item\"></ul></div>"
   ]
  },
  {
   "cell_type": "code",
   "execution_count": 20,
   "metadata": {},
   "outputs": [],
   "source": [
    "from IPython.display import Image\n",
    "from IPython.core.display import HTML\n",
    "from nltk.corpus import words\n",
    "\n",
    "def play ():\n",
    "    global letter_user\n",
    "    global random_word\n",
    "    global hidden_word\n",
    "    global remaining_chances\n",
    "    from time import sleep\n",
    "    \n",
    "    while True:\n",
    "    # 1. definition of words lists\n",
    "        travel = ['lisbon', 'kazakhstan','madagascar', 'bangladesh','kuwait', 'mozambique','lubumbashi','madras','kinshasa','harare']\n",
    "        animal = ['butterfly', 'elephant', 'monkey', 'gorilla', 'dolphin','pinguin', 'giraffe', 'mosquito']\n",
    "                \n",
    "        dict_theme = {1:travel,2:animal}\n",
    "        difficulty = ['a','b']\n",
    "    # 2. Create function to count the time (10 seconds) to guess or to check the result:\n",
    "        def count_time():\n",
    "            for n in range(5):\n",
    "                print('.', end = '')\n",
    "                sleep(.5)\n",
    "            print()\n",
    "\n",
    "    # 3. Player chooses the level of difficulty and a theme\n",
    "        '''\n",
    "        If the player chooses the easy level, he/she can then chooses a specific topic from which a word will be proposed.\n",
    "        Otherwise, a word will be picked from a random topic. \n",
    "        '''\n",
    "        print(\"Please choose the level of difficulty of the game: a for Easy; b for Difficult\")\n",
    "        theme_user = input()\n",
    "        while theme_user.isalpha() == False or str(theme_user) not in difficulty:\n",
    "            print(\"Please choose the level of difficulty of the game: a for Easy; b for Difficult\")\n",
    "            theme_user = input()\n",
    "        print(\"=========================\")\n",
    "        print(\" \")\n",
    "        \n",
    "        if theme_user == 'a':\n",
    "            print(\"Please choose the number corresponding to your favorite theme : 1 for travel; 2 for animal\")\n",
    "            theme_user = input()\n",
    "            \n",
    "\n",
    "            while theme_user.isdigit() == False or int(theme_user) not in list(dict_theme.keys()):\n",
    "                print(\"Please choose the number corresponding to your favorite theme : 1 for travel; 2 for animal\")\n",
    "                theme_user = input()\n",
    "            print(\"=========================\")\n",
    "            print(\" \")\n",
    "            \n",
    "            import random\n",
    "            list_choose = dict_theme[int(theme_user)]\n",
    "            random_word = random.choice(list_choose)\n",
    "            print(\"Let me think of the word\")\n",
    "            count_time() #to count the time to check\n",
    "            \n",
    "        else:\n",
    "            print('You have chosen the difficult level. A word will be picked from a random topic. Goodluck!')\n",
    "          \n",
    "            import random\n",
    "            list_word = words.words()\n",
    "            random_word = random.choice(list_word)\n",
    "            print(\"Let me think of the word\")\n",
    "            count_time() #to count the time to check\n",
    "        \n",
    "        hidden_word = []\n",
    "        remaining_chances = 6\n",
    "\n",
    "        for i in range(len(random_word)):\n",
    "            hidden_word.append('.')\n",
    "\n",
    "        print(\"The word to guess has\", len(hidden_word),\"letters :\", hidden_word, \". You have\",remaining_chances,\" chances to get it !! Good Luck\")\n",
    "        print(\"=========================\")\n",
    "        print(\" \")\n",
    "\n",
    "    # definition of a function for the player to choose a letter, different of all the letters he already chooses\n",
    "        def choice_letter():\n",
    "            global letter_user\n",
    "            global lst_letter\n",
    "            lst_letter = []\n",
    "            letter_user = input('Please choose a letter :')\n",
    "            print(\"Let me check the letter\")\n",
    "            count_time()            \n",
    "            \n",
    "            while letter_user in lst_letter:\n",
    "                print(\"You already choose this letter\")\n",
    "                letter_user = input('Please choose another letter :')\n",
    "                print(\"Let me check the letter\")\n",
    "                count_time()\n",
    "            lst_letter.append(letter_user)\n",
    "\n",
    "            #to avoid the error when the player enters more than 1 word\n",
    "            while len(letter_user) > 1:\n",
    "                print('You can only chose one letter.')\n",
    "                letter_user = input('Please choose another letter: ')\n",
    "                print(\"Let me check the letter\")\n",
    "                count_time()\n",
    "\n",
    "            #to avoid the error when the player enters a number and not a letter\n",
    "            while letter_user.isalpha() == False:\n",
    "                print('Numbers are not accepted. You can only choose letters')\n",
    "                letter_user = input('Please choose a letter: ')\n",
    "                print(\"Let me check the letter\")\n",
    "                count_time()\n",
    "                \n",
    "    # definition of a function to update the hidden word and the remaining chances\n",
    "\n",
    "        def new_word ():\n",
    "            global letter_user\n",
    "            global random_word\n",
    "            global hidden_word\n",
    "            global remaining_chances\n",
    "            if letter_user.lower() in random_word:\n",
    "                for j in range(len(random_word)):\n",
    "                    if letter_user.lower() == random_word[j]:\n",
    "                        hidden_word[j]=random_word[j]\n",
    "                print('this letter is in the word')\n",
    "                print('the word to guess is now: ', hidden_word)\n",
    "                print(f'You have {remaining_chances} chances to get it.')\n",
    "            else:\n",
    "                remaining_chances-=1\n",
    "                print(f'The letter isn\\'t in the word. You have {remaining_chances} chance(s)to get it.')\n",
    "                print('the word to guess is : ', hidden_word)\n",
    "                if remaining_chances == 5 :\n",
    "                    display(Image(filename = \"./Hangman_Picture5.png\", width=100, height=100))\n",
    "                elif remaining_chances == 4 :\n",
    "                    display(Image(filename = \"./Hangman_Picture4.png\", width=100, height=100))\n",
    "                elif remaining_chances == 3 :\n",
    "                    display(Image(filename = \"./Hangman_Picture3.png\", width=100, height=100))\n",
    "                elif remaining_chances == 2 :\n",
    "                    display(Image(filename = \"./Hangman_Picture2.png\", width=100, height=100))\n",
    "                elif remaining_chances == 1 :\n",
    "                    display(Image(filename = \"./Hangman_Picture1.png\", width=100, height=100))\n",
    "\n",
    "    # 5. definition of the final function , to get a message in case of victory, or defeat\n",
    "\n",
    "        def end_game():\n",
    "            global remaining_chances\n",
    "            global hidden_word\n",
    "            if remaining_chances == 0:\n",
    "                print(\"Hangman, you're a loser\")\n",
    "                display(Image(filename = \"./Hangman_Picture0.png\", width=100, height=100))\n",
    "            elif '.' not in hidden_word :\n",
    "                print(\"Congratulation! You find the word :\", ''.join(hidden_word))\n",
    "            print(\"=========================\")\n",
    "            print(\" \")\n",
    "\n",
    "        while (remaining_chances != 0) & ('.' in hidden_word):\n",
    "            choice_letter()\n",
    "            new_word()\n",
    "            end_game()\n",
    "        #to allow player to decide to continue to play or not after finishing the whole rounds    \n",
    "        print(\"Wanna play again ? Y/N\")      \n",
    "        if input().lower() == 'n':\n",
    "            break   "
   ]
  },
  {
   "cell_type": "code",
   "execution_count": 21,
   "metadata": {},
   "outputs": [
    {
     "name": "stdout",
     "output_type": "stream",
     "text": [
      "Please choose the level of difficulty of the game: a for Easy; b for Difficult\n",
      "b\n",
      "=========================\n",
      " \n",
      "You have chosen the difficult level. A word will be picked from a random topic. Goodluck!\n",
      "Let me think of the word\n",
      ".....\n",
      "The word to guess has 10 letters : ['.', '.', '.', '.', '.', '.', '.', '.', '.', '.'] . You have 6  chances to get it !! Good Luck\n",
      "=========================\n",
      " \n",
      "Please choose a letter :f\n",
      "Let me check the letter\n",
      ".....\n",
      "The letter isn't in the word. You have 5 chance(s)to get it.\n",
      "the word to guess is :  ['.', '.', '.', '.', '.', '.', '.', '.', '.', '.']\n"
     ]
    },
    {
     "data": {
      "image/png": "[encoded data removed]",
      "text/plain": [
       "<IPython.core.display.Image object>"
      ]
     },
     "metadata": {
      "image/png": {
       "height": 100,
       "width": 100
      }
     },
     "output_type": "display_data"
    },
    {
     "name": "stdout",
     "output_type": "stream",
     "text": [
      "=========================\n",
      " \n",
      "Please choose a letter :r\n",
      "Let me check the letter\n",
      ".....\n",
      "this letter is in the word\n",
      "the word to guess is now:  ['r', '.', '.', '.', '.', '.', '.', '.', '.', '.']\n",
      "You have 5 chances to get it.\n",
      "=========================\n",
      " \n",
      "Please choose a letter :o\n",
      "Let me check the letter\n",
      ".....\n",
      "The letter isn't in the word. You have 4 chance(s)to get it.\n",
      "the word to guess is :  ['r', '.', '.', '.', '.', '.', '.', '.', '.', '.']\n"
     ]
    },
    {
     "data": {
      "image/png": "[encoded data removed]",
      "text/plain": [
       "<IPython.core.display.Image object>"
      ]
     },
     "metadata": {
      "image/png": {
       "height": 100,
       "width": 100
      }
     },
     "output_type": "display_data"
    },
    {
     "name": "stdout",
     "output_type": "stream",
     "text": [
      "=========================\n",
      " \n",
      "Please choose a letter :t\n",
      "Let me check the letter\n",
      ".....\n",
      "this letter is in the word\n",
      "the word to guess is now:  ['r', '.', '.', '.', '.', 't', '.', '.', '.', '.']\n",
      "You have 4 chances to get it.\n",
      "=========================\n",
      " \n",
      "Please choose a letter :p\n",
      "Let me check the letter\n",
      ".....\n",
      "this letter is in the word\n",
      "the word to guess is now:  ['r', '.', '.', '.', 'p', 't', '.', '.', '.', '.']\n",
      "You have 4 chances to get it.\n",
      "=========================\n",
      " \n",
      "Please choose a letter :o\n",
      "Let me check the letter\n",
      ".....\n",
      "The letter isn't in the word. You have 3 chance(s)to get it.\n",
      "the word to guess is :  ['r', '.', '.', '.', 'p', 't', '.', '.', '.', '.']\n"
     ]
    },
    {
     "data": {
      "image/png": "[encoded data removed]",
      "text/plain": [
       "<IPython.core.display.Image object>"
      ]
     },
     "metadata": {
      "image/png": {
       "height": 100,
       "width": 100
      }
     },
     "output_type": "display_data"
    },
    {
     "name": "stdout",
     "output_type": "stream",
     "text": [
      "=========================\n",
      " \n",
      "Please choose a letter :i\n",
      "Let me check the letter\n",
      ".....\n",
      "The letter isn't in the word. You have 2 chance(s)to get it.\n",
      "the word to guess is :  ['r', '.', '.', '.', 'p', 't', '.', '.', '.', '.']\n"
     ]
    },
    {
     "data": {
      "image/png": "[encoded data removed]",
      "text/plain": [
       "<IPython.core.display.Image object>"
      ]
     },
     "metadata": {
      "image/png": {
       "height": 100,
       "width": 100
      }
     },
     "output_type": "display_data"
    },
    {
     "name": "stdout",
     "output_type": "stream",
     "text": [
      "=========================\n",
      " \n",
      "Please choose a letter :q\n",
      "Let me check the letter\n",
      ".....\n",
      "The letter isn't in the word. You have 1 chance(s)to get it.\n",
      "the word to guess is :  ['r', '.', '.', '.', 'p', 't', '.', '.', '.', '.']\n"
     ]
    },
    {
     "data": {
      "image/png": "[encoded data removed]",
      "text/plain": [
       "<IPython.core.display.Image object>"
      ]
     },
     "metadata": {
      "image/png": {
       "height": 100,
       "width": 100
      }
     },
     "output_type": "display_data"
    },
    {
     "name": "stdout",
     "output_type": "stream",
     "text": [
      "=========================\n",
      " \n",
      "Please choose a letter :e\n",
      "Let me check the letter\n",
      ".....\n",
      "this letter is in the word\n",
      "the word to guess is now:  ['r', 'e', '.', 'e', 'p', 't', '.', '.', '.', 'e']\n",
      "You have 1 chances to get it.\n",
      "=========================\n",
      " \n",
      "Please choose a letter :c\n",
      "Let me check the letter\n",
      ".....\n",
      "this letter is in the word\n",
      "the word to guess is now:  ['r', 'e', 'c', 'e', 'p', 't', '.', 'c', '.', 'e']\n",
      "You have 1 chances to get it.\n",
      "=========================\n",
      " \n",
      "Please choose a letter :l\n",
      "Let me check the letter\n",
      ".....\n",
      "this letter is in the word\n",
      "the word to guess is now:  ['r', 'e', 'c', 'e', 'p', 't', '.', 'c', 'l', 'e']\n",
      "You have 1 chances to get it.\n",
      "=========================\n",
      " \n",
      "Please choose a letter :i\n",
      "Let me check the letter\n",
      ".....\n",
      "The letter isn't in the word. You have 0 chance(s)to get it.\n",
      "the word to guess is :  ['r', 'e', 'c', 'e', 'p', 't', '.', 'c', 'l', 'e']\n",
      "Hangman, you're a loser\n"
     ]
    },
    {
     "data": {
      "image/png": "[encoded data removed]",
      "text/plain": [
       "<IPython.core.display.Image object>"
      ]
     },
     "metadata": {
      "image/png": {
       "height": 100,
       "width": 100
      }
     },
     "output_type": "display_data"
    },
    {
     "name": "stdout",
     "output_type": "stream",
     "text": [
      "=========================\n",
      " \n",
      "Wanna play again ? Y/N\n",
      "y\n",
      "Please choose the level of difficulty of the game: a for Easy; b for Difficult\n",
      "a\n",
      "=========================\n",
      " \n",
      "Please choose the number corresponding to your favorite theme : 1 for travel; 2 for animal\n",
      "2\n",
      "=========================\n",
      " \n",
      "Let me think of the word\n",
      ".....\n",
      "The word to guess has 7 letters : ['.', '.', '.', '.', '.', '.', '.'] . You have 6  chances to get it !! Good Luck\n",
      "=========================\n",
      " \n",
      "Please choose a letter :a\n",
      "Let me check the letter\n",
      ".....\n",
      "The letter isn't in the word. You have 5 chance(s)to get it.\n",
      "the word to guess is :  ['.', '.', '.', '.', '.', '.', '.']\n"
     ]
    },
    {
     "data": {
      "image/png": "[encoded data removed]",
      "text/plain": [
       "<IPython.core.display.Image object>"
      ]
     },
     "metadata": {
      "image/png": {
       "height": 100,
       "width": 100
      }
     },
     "output_type": "display_data"
    },
    {
     "name": "stdout",
     "output_type": "stream",
     "text": [
      "=========================\n",
      " \n",
      "Please choose a letter :a\n",
      "Let me check the letter\n",
      ".....\n",
      "The letter isn't in the word. You have 4 chance(s)to get it.\n",
      "the word to guess is :  ['.', '.', '.', '.', '.', '.', '.']\n"
     ]
    },
    {
     "data": {
      "image/png": "[encoded data removed]",
      "text/plain": [
       "<IPython.core.display.Image object>"
      ]
     },
     "metadata": {
      "image/png": {
       "height": 100,
       "width": 100
      }
     },
     "output_type": "display_data"
    },
    {
     "name": "stdout",
     "output_type": "stream",
     "text": [
      "=========================\n",
      " \n",
      "Please choose a letter :t\n",
      "Let me check the letter\n",
      ".....\n",
      "The letter isn't in the word. You have 3 chance(s)to get it.\n",
      "the word to guess is :  ['.', '.', '.', '.', '.', '.', '.']\n"
     ]
    },
    {
     "data": {
      "image/png": "[encoded data removed]",
      "text/plain": [
       "<IPython.core.display.Image object>"
      ]
     },
     "metadata": {
      "image/png": {
       "height": 100,
       "width": 100
      }
     },
     "output_type": "display_data"
    },
    {
     "name": "stdout",
     "output_type": "stream",
     "text": [
      "=========================\n",
      " \n",
      "Please choose a letter :y\n",
      "Let me check the letter\n",
      ".....\n",
      "The letter isn't in the word. You have 2 chance(s)to get it.\n",
      "the word to guess is :  ['.', '.', '.', '.', '.', '.', '.']\n"
     ]
    },
    {
     "data": {
      "image/png": "[encoded data removed]",
      "text/plain": [
       "<IPython.core.display.Image object>"
      ]
     },
     "metadata": {
      "image/png": {
       "height": 100,
       "width": 100
      }
     },
     "output_type": "display_data"
    },
    {
     "name": "stdout",
     "output_type": "stream",
     "text": [
      "=========================\n",
      " \n",
      "Please choose a letter :u\n",
      "Let me check the letter\n",
      ".....\n",
      "this letter is in the word\n",
      "the word to guess is now:  ['.', '.', '.', '.', 'u', '.', '.']\n",
      "You have 2 chances to get it.\n",
      "=========================\n",
      " \n",
      "Please choose a letter :p\n",
      "Let me check the letter\n",
      ".....\n",
      "this letter is in the word\n",
      "the word to guess is now:  ['p', '.', '.', '.', 'u', '.', '.']\n",
      "You have 2 chances to get it.\n",
      "=========================\n",
      " \n",
      "Please choose a letter :q\n",
      "Let me check the letter\n",
      ".....\n",
      "The letter isn't in the word. You have 1 chance(s)to get it.\n",
      "the word to guess is :  ['p', '.', '.', '.', 'u', '.', '.']\n"
     ]
    },
    {
     "data": {
      "image/png": "[encoded data removed]",
      "text/plain": [
       "<IPython.core.display.Image object>"
      ]
     },
     "metadata": {
      "image/png": {
       "height": 100,
       "width": 100
      }
     },
     "output_type": "display_data"
    },
    {
     "name": "stdout",
     "output_type": "stream",
     "text": [
      "=========================\n",
      " \n",
      "Please choose a letter :c\n",
      "Let me check the letter\n",
      ".....\n",
      "The letter isn't in the word. You have 0 chance(s)to get it.\n",
      "the word to guess is :  ['p', '.', '.', '.', 'u', '.', '.']\n",
      "Hangman, you're a loser\n"
     ]
    },
    {
     "data": {
      "image/png": "[encoded data removed]",
      "text/plain": [
       "<IPython.core.display.Image object>"
      ]
     },
     "metadata": {
      "image/png": {
       "height": 100,
       "width": 100
      }
     },
     "output_type": "display_data"
    },
    {
     "name": "stdout",
     "output_type": "stream",
     "text": [
      "=========================\n",
      " \n",
      "Wanna play again ? Y/N\n",
      "n\n"
     ]
    }
   ],
   "source": [
    "play()"
   ]
  }
 ],
 "metadata": {
  "kernelspec": {
   "display_name": "Python 3",
   "language": "python",
   "name": "python3"
  },
  "language_info": {
   "codemirror_mode": {
    "name": "ipython",
    "version": 3
   },
   "file_extension": ".py",
   "mimetype": "text/x-python",
   "name": "python",
   "nbconvert_exporter": "python",
   "pygments_lexer": "ipython3",
   "version": "3.7.6"
  },
  "toc": {
   "base_numbering": 1,
   "nav_menu": {},
   "number_sections": true,
   "sideBar": true,
   "skip_h1_title": false,
   "title_cell": "Table of Contents",
   "title_sidebar": "Contents",
   "toc_cell": true,
   "toc_position": {},
   "toc_section_display": true,
   "toc_window_display": false
  }
 },
 "nbformat": 4,
 "nbformat_minor": 4
}
